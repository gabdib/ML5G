{
 "cells": [
  {
   "cell_type": "code",
   "execution_count": 1,
   "metadata": {},
   "outputs": [],
   "source": [
    "import numpy as np\n",
    "import pandas as pd\n",
    "import matplotlib.pyplot as plt\n",
    "import math\n",
    "%matplotlib inline"
   ]
  },
  {
   "cell_type": "code",
   "execution_count": 68,
   "metadata": {},
   "outputs": [
    {
     "data": {
      "text/html": [
       "<div>\n",
       "<style scoped>\n",
       "    .dataframe tbody tr th:only-of-type {\n",
       "        vertical-align: middle;\n",
       "    }\n",
       "\n",
       "    .dataframe tbody tr th {\n",
       "        vertical-align: top;\n",
       "    }\n",
       "\n",
       "    .dataframe thead th {\n",
       "        text-align: right;\n",
       "    }\n",
       "</style>\n",
       "<table border=\"1\" class=\"dataframe\">\n",
       "  <thead>\n",
       "    <tr style=\"text-align: right;\">\n",
       "      <th></th>\n",
       "      <th>BSLat</th>\n",
       "      <th>BSLon</th>\n",
       "      <th>BSResources</th>\n",
       "      <th>BSRange</th>\n",
       "    </tr>\n",
       "  </thead>\n",
       "  <tbody>\n",
       "    <tr>\n",
       "      <th>count</th>\n",
       "      <td>6.000000</td>\n",
       "      <td>6.000000</td>\n",
       "      <td>6.0</td>\n",
       "      <td>6.000000</td>\n",
       "    </tr>\n",
       "    <tr>\n",
       "      <th>mean</th>\n",
       "      <td>5.411667</td>\n",
       "      <td>6.136667</td>\n",
       "      <td>0.0</td>\n",
       "      <td>2.596667</td>\n",
       "    </tr>\n",
       "    <tr>\n",
       "      <th>std</th>\n",
       "      <td>3.862784</td>\n",
       "      <td>3.034532</td>\n",
       "      <td>0.0</td>\n",
       "      <td>0.276381</td>\n",
       "    </tr>\n",
       "    <tr>\n",
       "      <th>min</th>\n",
       "      <td>1.110000</td>\n",
       "      <td>2.170000</td>\n",
       "      <td>0.0</td>\n",
       "      <td>2.100000</td>\n",
       "    </tr>\n",
       "    <tr>\n",
       "      <th>25%</th>\n",
       "      <td>3.465000</td>\n",
       "      <td>3.800000</td>\n",
       "      <td>0.0</td>\n",
       "      <td>2.525000</td>\n",
       "    </tr>\n",
       "    <tr>\n",
       "      <th>50%</th>\n",
       "      <td>4.710000</td>\n",
       "      <td>6.660000</td>\n",
       "      <td>0.0</td>\n",
       "      <td>2.660000</td>\n",
       "    </tr>\n",
       "    <tr>\n",
       "      <th>75%</th>\n",
       "      <td>6.037500</td>\n",
       "      <td>8.177500</td>\n",
       "      <td>0.0</td>\n",
       "      <td>2.780000</td>\n",
       "    </tr>\n",
       "    <tr>\n",
       "      <th>max</th>\n",
       "      <td>12.410000</td>\n",
       "      <td>9.800000</td>\n",
       "      <td>0.0</td>\n",
       "      <td>2.860000</td>\n",
       "    </tr>\n",
       "  </tbody>\n",
       "</table>\n",
       "</div>"
      ],
      "text/plain": [
       "           BSLat     BSLon  BSResources   BSRange\n",
       "count   6.000000  6.000000          6.0  6.000000\n",
       "mean    5.411667  6.136667          0.0  2.596667\n",
       "std     3.862784  3.034532          0.0  0.276381\n",
       "min     1.110000  2.170000          0.0  2.100000\n",
       "25%     3.465000  3.800000          0.0  2.525000\n",
       "50%     4.710000  6.660000          0.0  2.660000\n",
       "75%     6.037500  8.177500          0.0  2.780000\n",
       "max    12.410000  9.800000          0.0  2.860000"
      ]
     },
     "execution_count": 68,
     "metadata": {},
     "output_type": "execute_result"
    }
   ],
   "source": [
    "bs = pd.read_csv(\"./SVM5G_Datasets/BS.csv\")\n",
    "\n",
    "bs.describe()"
   ]
  },
  {
   "cell_type": "code",
   "execution_count": 69,
   "metadata": {},
   "outputs": [
    {
     "data": {
      "text/html": [
       "<div>\n",
       "<style scoped>\n",
       "    .dataframe tbody tr th:only-of-type {\n",
       "        vertical-align: middle;\n",
       "    }\n",
       "\n",
       "    .dataframe tbody tr th {\n",
       "        vertical-align: top;\n",
       "    }\n",
       "\n",
       "    .dataframe thead th {\n",
       "        text-align: right;\n",
       "    }\n",
       "</style>\n",
       "<table border=\"1\" class=\"dataframe\">\n",
       "  <thead>\n",
       "    <tr style=\"text-align: right;\">\n",
       "      <th></th>\n",
       "      <th>ULat</th>\n",
       "      <th>ULon</th>\n",
       "      <th>UDataRate</th>\n",
       "    </tr>\n",
       "  </thead>\n",
       "  <tbody>\n",
       "    <tr>\n",
       "      <th>count</th>\n",
       "      <td>6.000000</td>\n",
       "      <td>6.000000</td>\n",
       "      <td>6.000000</td>\n",
       "    </tr>\n",
       "    <tr>\n",
       "      <th>mean</th>\n",
       "      <td>5.236667</td>\n",
       "      <td>7.388333</td>\n",
       "      <td>50.500000</td>\n",
       "    </tr>\n",
       "    <tr>\n",
       "      <th>std</th>\n",
       "      <td>3.336157</td>\n",
       "      <td>3.240428</td>\n",
       "      <td>54.224533</td>\n",
       "    </tr>\n",
       "    <tr>\n",
       "      <th>min</th>\n",
       "      <td>1.040000</td>\n",
       "      <td>1.320000</td>\n",
       "      <td>1.000000</td>\n",
       "    </tr>\n",
       "    <tr>\n",
       "      <th>25%</th>\n",
       "      <td>3.385000</td>\n",
       "      <td>6.902500</td>\n",
       "      <td>1.000000</td>\n",
       "    </tr>\n",
       "    <tr>\n",
       "      <th>50%</th>\n",
       "      <td>4.665000</td>\n",
       "      <td>8.305000</td>\n",
       "      <td>50.500000</td>\n",
       "    </tr>\n",
       "    <tr>\n",
       "      <th>75%</th>\n",
       "      <td>6.860000</td>\n",
       "      <td>9.542500</td>\n",
       "      <td>100.000000</td>\n",
       "    </tr>\n",
       "    <tr>\n",
       "      <th>max</th>\n",
       "      <td>10.500000</td>\n",
       "      <td>10.010000</td>\n",
       "      <td>100.000000</td>\n",
       "    </tr>\n",
       "  </tbody>\n",
       "</table>\n",
       "</div>"
      ],
      "text/plain": [
       "            ULat       ULon   UDataRate\n",
       "count   6.000000   6.000000    6.000000\n",
       "mean    5.236667   7.388333   50.500000\n",
       "std     3.336157   3.240428   54.224533\n",
       "min     1.040000   1.320000    1.000000\n",
       "25%     3.385000   6.902500    1.000000\n",
       "50%     4.665000   8.305000   50.500000\n",
       "75%     6.860000   9.542500  100.000000\n",
       "max    10.500000  10.010000  100.000000"
      ]
     },
     "execution_count": 69,
     "metadata": {},
     "output_type": "execute_result"
    }
   ],
   "source": [
    "users = pd.read_csv(\"./SVM5G_Datasets/Users.csv\")\n",
    "\n",
    "users.describe()"
   ]
  },
  {
   "cell_type": "code",
   "execution_count": 79,
   "metadata": {},
   "outputs": [
    {
     "data": {
      "image/png": "[encoded data removed]",
      "text/plain": [
       "<matplotlib.figure.Figure at 0x1d3e65ff940>"
      ]
     },
     "metadata": {
      "needs_background": "light"
     },
     "output_type": "display_data"
    }
   ],
   "source": [
    "BSPos = bs[['BSLat','BSLon']]\n",
    "UPos = users[['ULat','ULon']]\n",
    "\n",
    "fig, ax = plt.subplots()\n",
    "    \n",
    "# Plotting BS and Users positions \n",
    "ax.scatter(BSPos['BSLon'],BSPos['BSLat'], color='y')\n",
    "ax.scatter(UPos['ULon'], UPos['ULat'], color='b')\n",
    "plt.ylabel('longitude')\n",
    "plt.xlabel('latitude')\n",
    "ax.legend(['Base Stations', 'Users'])\n",
    "\n",
    "for i,j in bs.iterrows():\n",
    "    \n",
    "    # Plotting BS range\n",
    "    pos = (j['BSLon'], j['BSLat'])\n",
    "    circle = plt.Circle(pos, j['BSRange'], color='y', fill=False)\n",
    "    ax.add_artist(circle)\n",
    "    \n",
    "    #Plotting BS index\n",
    "    ax.annotate(i, (j['BSLon']+0.1, j['BSLat']+0.1), color='y')\n",
    "    \n",
    "for i,j in users.iterrows():\n",
    "    \n",
    "    #Plotting user index\n",
    "    ax.annotate(i, (j['ULon']+0.1, j['ULat']+0.1), color='b')"
   ]
  },
  {
   "cell_type": "markdown",
   "metadata": {},
   "source": [
    "Computing distances between users (rows) and BS (columns):"
   ]
  },
  {
   "cell_type": "code",
   "execution_count": 84,
   "metadata": {
    "scrolled": true
   },
   "outputs": [
    {
     "name": "stdout",
     "output_type": "stream",
     "text": [
      "           0         1         2          3         4         5\n",
      "0  10.719188  4.188198  7.054197   1.933417  8.281576  7.414850\n",
      "1   2.914138  7.468347  4.026624  11.480004  2.118042  8.480024\n",
      "2   5.374430  1.834802  1.755050   7.164607  4.339700  3.994058\n",
      "3   5.524609  2.450000  2.924791   8.530475  6.076348  1.821675\n",
      "4   6.560373  5.581442  5.680739  11.494912  8.750589  2.161874\n",
      "5   9.127475  2.147091  5.697798   5.392819  8.134771  4.135336\n"
     ]
    }
   ],
   "source": [
    "distances = pd.DataFrame()\n",
    "for ui,uj in users.iterrows():\n",
    "    for bsi,bsj in bs.iterrows():\n",
    "        distances.at[ui,bsi] = math.sqrt((uj['ULat'] - bsj['BSLat'])**2 + (uj['ULon'] - bsj['BSLon'])**2)\n",
    "        \n",
    "print (distances)"
   ]
  },
  {
   "cell_type": "code",
   "execution_count": null,
   "metadata": {},
   "outputs": [],
   "source": []
  }
 ],
 "metadata": {
  "kernelspec": {
   "display_name": "Python 3",
   "language": "python",
   "name": "python3"
  },
  "language_info": {
   "codemirror_mode": {
    "name": "ipython",
    "version": 3
   },
   "file_extension": ".py",
   "mimetype": "text/x-python",
   "name": "python",
   "nbconvert_exporter": "python",
   "pygments_lexer": "ipython3",
   "version": "3.6.2"
  }
 },
 "nbformat": 4,
 "nbformat_minor": 4
}
