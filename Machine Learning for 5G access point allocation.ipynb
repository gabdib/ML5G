{
 "cells": [
  {
   "cell_type": "code",
   "execution_count": 11,
   "metadata": {},
   "outputs": [],
   "source": [
    "import numpy as np\n",
    "import pandas as pd\n",
    "import math\n",
    "import matplotlib.pyplot as plt\n",
    "from matplotlib.collections import LineCollection\n",
    "%matplotlib inline"
   ]
  },
  {
   "cell_type": "code",
   "execution_count": 29,
   "metadata": {},
   "outputs": [],
   "source": [
    "bs = pd.read_csv(\"./SVM5G_Datasets/BS.csv\")\n",
    "users = pd.read_csv(\"./SVM5G_Datasets/Users.csv\")"
   ]
  },
  {
   "cell_type": "code",
   "execution_count": 69,
   "metadata": {},
   "outputs": [
    {
     "name": "stdout",
     "output_type": "stream",
     "text": [
      "90 10\n"
     ]
    }
   ],
   "source": [
    "# Defining l0 (used in path loss computation)\n",
    "d0 = 1\n",
    "f = 24 # Gh\n",
    "l0 = 10*math.log10(((4 * math.pi * d0)/f)**2)\n",
    "\n",
    "# Frequency slicing [kHz]\n",
    "Dfc = 30\n",
    "\n",
    "# Number of subcarrier\n",
    "nSubCarrier = 12\n",
    "\n",
    "# Time slicing [ms]\n",
    "Dt = 1\n",
    "\n",
    "# Bandwidth [kHz]\n",
    "Wprb = Dfc * nSubCarrier\n",
    "\n",
    "# Number of physical resource blocks\n",
    "Nprb = 25\n",
    "\n",
    "# Number of symbol\n",
    "nSymbol = 13\n",
    "\n",
    "# Number of users to generate\n",
    "totUsers = 100\n",
    "\n",
    "# IoT users percent (of totUsers)\n",
    "iotUsersPercent = 0.9\n",
    "\n",
    "# MMB users percent (of totUsers)\n",
    "mmbUsersPercent = 1.0 - iotUsersPercent\n",
    "\n",
    "# IoT users\n",
    "iotUsers = round(totUsers*iotUsersPercent)\n",
    "\n",
    "# MMB users\n",
    "mmbUsers = round(totUsers*mmbUsersPercent)\n",
    "\n"
   ]
  },
  {
   "cell_type": "code",
   "execution_count": 55,
   "metadata": {},
   "outputs": [
    {
     "data": {
      "image/png": "[encoded data removed]",
      "text/plain": [
       "<Figure size 432x288 with 1 Axes>"
      ]
     },
     "metadata": {
      "needs_background": "light"
     },
     "output_type": "display_data"
    }
   ],
   "source": [
    "def plotPositions(users, bs, connections = None):\n",
    "\n",
    "    BSPos = bs[['BSLat','BSLon']]\n",
    "    UPos = users[['ULat','ULon']]\n",
    "\n",
    "    fig, ax = plt.subplots()\n",
    "    \n",
    "    # Plotting BS and Users positions \n",
    "    ax.scatter(BSPos['BSLon'],BSPos['BSLat'], color='y')\n",
    "    ax.scatter(UPos['ULon'], UPos['ULat'], color='b')\n",
    "    plt.ylabel('y [meters]')\n",
    "    plt.xlabel('x [meters]')\n",
    "    ax.legend(['Base Stations', 'Users'])\n",
    "    \n",
    "    for i,j in bs.iterrows():\n",
    "        \n",
    "        # Plotting BS range\n",
    "        #pos = (j['BSLon'], j['BSLat'])\n",
    "        #circle = plt.Circle(pos, j['BSRange'], color='y', fill=False)\n",
    "        #ax.add_artist(circle)\n",
    "        \n",
    "        #Plotting BS index\n",
    "        ax.annotate(i, (j['BSLon']+0.8, j['BSLat']+0.8), color='y')\n",
    "        \n",
    "    for i,j in users.iterrows():\n",
    "        \n",
    "        #Plotting user index\n",
    "        ax.annotate(i, (j['ULon']+0.8, j['ULat']+0.8), color='b')\n",
    "        #ax.annotate(j['UDataRate'], (j['ULon']-0.1, j['ULat']-0.1), color='b')\n",
    "\n",
    "    if(connections is not None):\n",
    "        for ui, uj  in connections.iterrows():\n",
    "            if(not math.isinf(uj['minPathLoss'])):\n",
    "                bsi = int(uj['BS'])\n",
    "                lat1, lat2 = UPos.iloc[ui]['ULat'], BSPos.iloc[bsi]['BSLat']\n",
    "                lon1, lon2 = UPos.iloc[ui]['ULon'], BSPos.iloc[bsi]['BSLon']\n",
    "                ax.plot([lon1,lon2],[lat1,lat2], color='b', alpha=0.2)\n",
    "        \n",
    "                # Plotting BS range\n",
    "                pos = (users.loc[int(ui), 'ULon'], users.loc[int(ui), 'ULat'])\n",
    "                circle = plt.Circle(pos, uj['minPathLoss'], color='b', fill=False, alpha=0.1)\n",
    "                ax.add_artist(circle)\n",
    "        \n",
    "plotPositions(users, bs)"
   ]
  },
  {
   "cell_type": "markdown",
   "metadata": {},
   "source": [
    "Computing distances between users (rows) and BS (columns):"
   ]
  },
  {
   "cell_type": "code",
   "execution_count": 63,
   "metadata": {
    "scrolled": true
   },
   "outputs": [
    {
     "data": {
      "text/html": [
       "<div>\n",
       "<style scoped>\n",
       "    .dataframe tbody tr th:only-of-type {\n",
       "        vertical-align: middle;\n",
       "    }\n",
       "\n",
       "    .dataframe tbody tr th {\n",
       "        vertical-align: top;\n",
       "    }\n",
       "\n",
       "    .dataframe thead th {\n",
       "        text-align: right;\n",
       "    }\n",
       "</style>\n",
       "<table border=\"1\" class=\"dataframe\">\n",
       "  <thead>\n",
       "    <tr style=\"text-align: right;\">\n",
       "      <th></th>\n",
       "      <th>0</th>\n",
       "      <th>1</th>\n",
       "      <th>2</th>\n",
       "      <th>3</th>\n",
       "      <th>4</th>\n",
       "      <th>5</th>\n",
       "    </tr>\n",
       "  </thead>\n",
       "  <tbody>\n",
       "    <tr>\n",
       "      <th>0</th>\n",
       "      <td>49.745374</td>\n",
       "      <td>50.353974</td>\n",
       "      <td>40.936216</td>\n",
       "      <td>36.431810</td>\n",
       "      <td>47.527220</td>\n",
       "      <td>45.831534</td>\n",
       "    </tr>\n",
       "    <tr>\n",
       "      <th>1</th>\n",
       "      <td>37.965391</td>\n",
       "      <td>50.415604</td>\n",
       "      <td>42.806031</td>\n",
       "      <td>51.572120</td>\n",
       "      <td>34.391875</td>\n",
       "      <td>49.821950</td>\n",
       "    </tr>\n",
       "    <tr>\n",
       "      <th>2</th>\n",
       "      <td>45.446177</td>\n",
       "      <td>44.893460</td>\n",
       "      <td>29.204576</td>\n",
       "      <td>37.815384</td>\n",
       "      <td>47.370287</td>\n",
       "      <td>38.104258</td>\n",
       "    </tr>\n",
       "    <tr>\n",
       "      <th>3</th>\n",
       "      <td>44.068571</td>\n",
       "      <td>36.990524</td>\n",
       "      <td>34.918297</td>\n",
       "      <td>42.660324</td>\n",
       "      <td>49.947337</td>\n",
       "      <td>24.654143</td>\n",
       "    </tr>\n",
       "    <tr>\n",
       "      <th>4</th>\n",
       "      <td>33.903557</td>\n",
       "      <td>46.671885</td>\n",
       "      <td>34.545095</td>\n",
       "      <td>48.462323</td>\n",
       "      <td>40.448691</td>\n",
       "      <td>45.425612</td>\n",
       "    </tr>\n",
       "    <tr>\n",
       "      <th>5</th>\n",
       "      <td>48.549051</td>\n",
       "      <td>43.683586</td>\n",
       "      <td>39.310847</td>\n",
       "      <td>33.463467</td>\n",
       "      <td>51.126127</td>\n",
       "      <td>33.505311</td>\n",
       "    </tr>\n",
       "    <tr>\n",
       "      <th>6</th>\n",
       "      <td>51.562553</td>\n",
       "      <td>54.767348</td>\n",
       "      <td>47.325484</td>\n",
       "      <td>48.421619</td>\n",
       "      <td>43.587404</td>\n",
       "      <td>52.304300</td>\n",
       "    </tr>\n",
       "  </tbody>\n",
       "</table>\n",
       "</div>"
      ],
      "text/plain": [
       "           0          1          2          3          4          5\n",
       "0  49.745374  50.353974  40.936216  36.431810  47.527220  45.831534\n",
       "1  37.965391  50.415604  42.806031  51.572120  34.391875  49.821950\n",
       "2  45.446177  44.893460  29.204576  37.815384  47.370287  38.104258\n",
       "3  44.068571  36.990524  34.918297  42.660324  49.947337  24.654143\n",
       "4  33.903557  46.671885  34.545095  48.462323  40.448691  45.425612\n",
       "5  48.549051  43.683586  39.310847  33.463467  51.126127  33.505311\n",
       "6  51.562553  54.767348  47.325484  48.421619  43.587404  52.304300"
      ]
     },
     "execution_count": 63,
     "metadata": {},
     "output_type": "execute_result"
    }
   ],
   "source": [
    "def computeDistance(lat1, lon1, lat2, lon2):\n",
    "    return math.sqrt((lat1 - lat2)**2 + (lon1 - lon2)**2)\n",
    "\n",
    "def computePathLoss(distance, gamma = 3):\n",
    "    return l0 + 10*gamma*math.log10(distance)\n",
    "\n",
    "def computePathLosses():\n",
    "    pathLosses = pd.DataFrame()\n",
    "    for ui,uj in users.iterrows():\n",
    "        for bsi,bsj in bs.iterrows():\n",
    "            dist = computeDistance(uj['ULat'], uj['ULon'], bsj['BSLat'], bsj['BSLon'])\n",
    "            pathLoss = computePathLoss(dist)\n",
    "            pathLosses.at[ui,bsi] = pathLoss\n",
    "            \n",
    "    return pathLosses\n",
    "        \n",
    "\n",
    "pathLosses = computePathLosses()\n",
    "    \n",
    "pathLosses.head(20)"
   ]
  },
  {
   "cell_type": "code",
   "execution_count": 64,
   "metadata": {},
   "outputs": [
    {
     "data": {
      "text/html": [
       "<div>\n",
       "<style scoped>\n",
       "    .dataframe tbody tr th:only-of-type {\n",
       "        vertical-align: middle;\n",
       "    }\n",
       "\n",
       "    .dataframe tbody tr th {\n",
       "        vertical-align: top;\n",
       "    }\n",
       "\n",
       "    .dataframe thead th {\n",
       "        text-align: right;\n",
       "    }\n",
       "</style>\n",
       "<table border=\"1\" class=\"dataframe\">\n",
       "  <thead>\n",
       "    <tr style=\"text-align: right;\">\n",
       "      <th></th>\n",
       "      <th>BS</th>\n",
       "      <th>minPathLoss</th>\n",
       "    </tr>\n",
       "  </thead>\n",
       "  <tbody>\n",
       "    <tr>\n",
       "      <th>0</th>\n",
       "      <td>3</td>\n",
       "      <td>36.431810</td>\n",
       "    </tr>\n",
       "    <tr>\n",
       "      <th>1</th>\n",
       "      <td>4</td>\n",
       "      <td>34.391875</td>\n",
       "    </tr>\n",
       "    <tr>\n",
       "      <th>2</th>\n",
       "      <td>2</td>\n",
       "      <td>29.204576</td>\n",
       "    </tr>\n",
       "    <tr>\n",
       "      <th>3</th>\n",
       "      <td>5</td>\n",
       "      <td>24.654143</td>\n",
       "    </tr>\n",
       "    <tr>\n",
       "      <th>4</th>\n",
       "      <td>0</td>\n",
       "      <td>33.903557</td>\n",
       "    </tr>\n",
       "    <tr>\n",
       "      <th>5</th>\n",
       "      <td>3</td>\n",
       "      <td>33.463467</td>\n",
       "    </tr>\n",
       "    <tr>\n",
       "      <th>6</th>\n",
       "      <td>4</td>\n",
       "      <td>43.587404</td>\n",
       "    </tr>\n",
       "  </tbody>\n",
       "</table>\n",
       "</div>"
      ],
      "text/plain": [
       "   BS  minPathLoss\n",
       "0   3    36.431810\n",
       "1   4    34.391875\n",
       "2   2    29.204576\n",
       "3   5    24.654143\n",
       "4   0    33.903557\n",
       "5   3    33.463467\n",
       "6   4    43.587404"
      ]
     },
     "execution_count": 64,
     "metadata": {},
     "output_type": "execute_result"
    }
   ],
   "source": [
    "minPathLosses = pd.DataFrame()\n",
    "minPathLosses['BS'] = pathLosses.idxmin(axis=1)\n",
    "minPathLosses['minPathLoss'] = pathLosses.min(axis=1)\n",
    "\n",
    "minPathLosses.head(20)"
   ]
  },
  {
   "cell_type": "code",
   "execution_count": 65,
   "metadata": {},
   "outputs": [
    {
     "data": {
      "image/png": "[encoded data removed]",
      "text/plain": [
       "<Figure size 432x288 with 1 Axes>"
      ]
     },
     "metadata": {
      "needs_background": "light"
     },
     "output_type": "display_data"
    }
   ],
   "source": [
    "plotPositions(users, bs, minPathLosses)"
   ]
  },
  {
   "cell_type": "code",
   "execution_count": null,
   "metadata": {},
   "outputs": [],
   "source": []
  }
 ],
 "metadata": {
  "kernelspec": {
   "display_name": "Python 3",
   "language": "python",
   "name": "python3"
  },
  "language_info": {
   "codemirror_mode": {
    "name": "ipython",
    "version": 3
   },
   "file_extension": ".py",
   "mimetype": "text/x-python",
   "name": "python",
   "nbconvert_exporter": "python",
   "pygments_lexer": "ipython3",
   "version": "3.6.2"
  }
 },
 "nbformat": 4,
 "nbformat_minor": 4
}
